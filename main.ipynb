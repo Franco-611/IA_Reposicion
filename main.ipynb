{
 "cells": [
  {
   "attachments": {},
   "cell_type": "markdown",
   "metadata": {},
   "source": [
    "# Lectura de los datos "
   ]
  },
  {
   "cell_type": "code",
   "execution_count": 33,
   "metadata": {},
   "outputs": [],
   "source": [
    "\n",
    "from math import *\n",
    "import pandas as pd\n",
    "from sklearn.model_selection import train_test_split\n",
    "from sklearn.preprocessing import StandardScaler\n",
    "from sklearn.decomposition import PCA\n",
    "from sklearn.linear_model import LogisticRegression\n",
    "from sklearn.metrics import confusion_matrix, accuracy_score\n",
    "from imblearn.over_sampling import RandomOverSampler\n",
    "import pandas as pd\n",
    "from sklearn.impute import SimpleImputer\n",
    "from sklearn.preprocessing import PolynomialFeatures\n",
    "from sklearn.linear_model import LinearRegression\n",
    "from sklearn.pipeline import Pipeline\n",
    "from sklearn.model_selection import GridSearchCV\n",
    "import numpy as np"
   ]
  },
  {
   "attachments": {},
   "cell_type": "markdown",
   "metadata": {},
   "source": [
    "##Lectura de datos"
   ]
  },
  {
   "cell_type": "code",
   "execution_count": 34,
   "metadata": {},
   "outputs": [
    {
     "data": {
      "text/plain": [
       "male               0\n",
       "age                0\n",
       "education          0\n",
       "currentSmoker      0\n",
       "cigsPerDay         0\n",
       "BPMeds             0\n",
       "prevalentStroke    0\n",
       "prevalentHyp       0\n",
       "diabetes           0\n",
       "totChol            0\n",
       "sysBP              0\n",
       "diaBP              0\n",
       "BMI                0\n",
       "heartRate          0\n",
       "glucose            0\n",
       "TenYearCHD         0\n",
       "dtype: int64"
      ]
     },
     "execution_count": 34,
     "metadata": {},
     "output_type": "execute_result"
    }
   ],
   "source": [
    "data = pd.read_csv(\"./framingham.csv\")\n",
    "\n",
    "data = data.dropna()\n",
    "\n",
    "data.isna().sum()\n",
    "\n"
   ]
  },
  {
   "attachments": {},
   "cell_type": "markdown",
   "metadata": {},
   "source": [
    "\n",
    "## Manipulación, balanceo y exploración de datos"
   ]
  },
  {
   "cell_type": "code",
   "execution_count": 35,
   "metadata": {},
   "outputs": [
    {
     "name": "stdout",
     "output_type": "stream",
     "text": [
      "0    3099\n",
      "1    3099\n",
      "Name: TenYearCHD, dtype: int64\n"
     ]
    }
   ],
   "source": [
    "\n",
    "X = data.drop(\"TenYearCHD\", axis=1)\n",
    "y = data[\"TenYearCHD\"]\n",
    "\n",
    "oversampler = RandomOverSampler()\n",
    "\n",
    "X_resampled, y_resampled = oversampler.fit_resample(X, y)\n",
    "\n",
    "print(y_resampled.value_counts())\n",
    "\n",
    "data = pd.concat([X_resampled, y_resampled], axis=1)\n"
   ]
  },
  {
   "attachments": {},
   "cell_type": "markdown",
   "metadata": {},
   "source": [
    "### Normalizacion y escalacion de los datos"
   ]
  },
  {
   "cell_type": "code",
   "execution_count": 36,
   "metadata": {},
   "outputs": [
    {
     "data": {
      "text/html": [
       "<div>\n",
       "<style scoped>\n",
       "    .dataframe tbody tr th:only-of-type {\n",
       "        vertical-align: middle;\n",
       "    }\n",
       "\n",
       "    .dataframe tbody tr th {\n",
       "        vertical-align: top;\n",
       "    }\n",
       "\n",
       "    .dataframe thead th {\n",
       "        text-align: right;\n",
       "    }\n",
       "</style>\n",
       "<table border=\"1\" class=\"dataframe\">\n",
       "  <thead>\n",
       "    <tr style=\"text-align: right;\">\n",
       "      <th></th>\n",
       "      <th>male</th>\n",
       "      <th>age</th>\n",
       "      <th>education</th>\n",
       "      <th>currentSmoker</th>\n",
       "      <th>BPMeds</th>\n",
       "      <th>prevalentStroke</th>\n",
       "      <th>prevalentHyp</th>\n",
       "      <th>diabetes</th>\n",
       "      <th>TenYearCHD</th>\n",
       "      <th>cigsPerDay</th>\n",
       "      <th>totChol</th>\n",
       "      <th>sysBP</th>\n",
       "      <th>diaBP</th>\n",
       "      <th>BMI</th>\n",
       "      <th>heartRate</th>\n",
       "      <th>heartRate</th>\n",
       "      <th>glucose</th>\n",
       "    </tr>\n",
       "  </thead>\n",
       "  <tbody>\n",
       "    <tr>\n",
       "      <th>0</th>\n",
       "      <td>1</td>\n",
       "      <td>39</td>\n",
       "      <td>4.0</td>\n",
       "      <td>0</td>\n",
       "      <td>0.0</td>\n",
       "      <td>0</td>\n",
       "      <td>0</td>\n",
       "      <td>0</td>\n",
       "      <td>0</td>\n",
       "      <td>-0.782683</td>\n",
       "      <td>-0.973729</td>\n",
       "      <td>-1.270400</td>\n",
       "      <td>-1.112125</td>\n",
       "      <td>0.204792</td>\n",
       "      <td>0.342877</td>\n",
       "      <td>0.342877</td>\n",
       "      <td>-0.234107</td>\n",
       "    </tr>\n",
       "    <tr>\n",
       "      <th>1</th>\n",
       "      <td>0</td>\n",
       "      <td>46</td>\n",
       "      <td>2.0</td>\n",
       "      <td>0</td>\n",
       "      <td>0.0</td>\n",
       "      <td>0</td>\n",
       "      <td>0</td>\n",
       "      <td>0</td>\n",
       "      <td>0</td>\n",
       "      <td>-0.782683</td>\n",
       "      <td>0.190994</td>\n",
       "      <td>-0.653974</td>\n",
       "      <td>-0.272066</td>\n",
       "      <td>0.617849</td>\n",
       "      <td>1.601606</td>\n",
       "      <td>1.601606</td>\n",
       "      <td>-0.265360</td>\n",
       "    </tr>\n",
       "    <tr>\n",
       "      <th>2</th>\n",
       "      <td>1</td>\n",
       "      <td>48</td>\n",
       "      <td>1.0</td>\n",
       "      <td>1</td>\n",
       "      <td>0.0</td>\n",
       "      <td>0</td>\n",
       "      <td>0</td>\n",
       "      <td>0</td>\n",
       "      <td>0</td>\n",
       "      <td>0.841269</td>\n",
       "      <td>0.085110</td>\n",
       "      <td>-0.386856</td>\n",
       "      <td>-0.348435</td>\n",
       "      <td>-0.177755</td>\n",
       "      <td>-0.076699</td>\n",
       "      <td>-0.076699</td>\n",
       "      <td>-0.452880</td>\n",
       "    </tr>\n",
       "    <tr>\n",
       "      <th>3</th>\n",
       "      <td>0</td>\n",
       "      <td>61</td>\n",
       "      <td>3.0</td>\n",
       "      <td>1</td>\n",
       "      <td>0.0</td>\n",
       "      <td>0</td>\n",
       "      <td>1</td>\n",
       "      <td>0</td>\n",
       "      <td>1</td>\n",
       "      <td>1.653245</td>\n",
       "      <td>-0.338425</td>\n",
       "      <td>0.537783</td>\n",
       "      <td>0.797100</td>\n",
       "      <td>0.582646</td>\n",
       "      <td>-0.915851</td>\n",
       "      <td>-0.915851</td>\n",
       "      <td>0.578477</td>\n",
       "    </tr>\n",
       "    <tr>\n",
       "      <th>4</th>\n",
       "      <td>0</td>\n",
       "      <td>46</td>\n",
       "      <td>3.0</td>\n",
       "      <td>1</td>\n",
       "      <td>0.0</td>\n",
       "      <td>0</td>\n",
       "      <td>0</td>\n",
       "      <td>0</td>\n",
       "      <td>0</td>\n",
       "      <td>1.084861</td>\n",
       "      <td>0.932182</td>\n",
       "      <td>-0.284118</td>\n",
       "      <td>-0.042959</td>\n",
       "      <td>-0.703464</td>\n",
       "      <td>0.762453</td>\n",
       "      <td>0.762453</td>\n",
       "      <td>0.015919</td>\n",
       "    </tr>\n",
       "  </tbody>\n",
       "</table>\n",
       "</div>"
      ],
      "text/plain": [
       "   male  age  education  currentSmoker  BPMeds  prevalentStroke  prevalentHyp  \\\n",
       "0     1   39        4.0              0     0.0                0             0   \n",
       "1     0   46        2.0              0     0.0                0             0   \n",
       "2     1   48        1.0              1     0.0                0             0   \n",
       "3     0   61        3.0              1     0.0                0             1   \n",
       "4     0   46        3.0              1     0.0                0             0   \n",
       "\n",
       "   diabetes  TenYearCHD  cigsPerDay   totChol     sysBP     diaBP       BMI  \\\n",
       "0         0           0   -0.782683 -0.973729 -1.270400 -1.112125  0.204792   \n",
       "1         0           0   -0.782683  0.190994 -0.653974 -0.272066  0.617849   \n",
       "2         0           0    0.841269  0.085110 -0.386856 -0.348435 -0.177755   \n",
       "3         0           1    1.653245 -0.338425  0.537783  0.797100  0.582646   \n",
       "4         0           0    1.084861  0.932182 -0.284118 -0.042959 -0.703464   \n",
       "\n",
       "   heartRate  heartRate   glucose  \n",
       "0   0.342877   0.342877 -0.234107  \n",
       "1   1.601606   1.601606 -0.265360  \n",
       "2  -0.076699  -0.076699 -0.452880  \n",
       "3  -0.915851  -0.915851  0.578477  \n",
       "4   0.762453   0.762453  0.015919  "
      ]
     },
     "execution_count": 36,
     "metadata": {},
     "output_type": "execute_result"
    }
   ],
   "source": [
    "columns_to_normalize = ['cigsPerDay', 'totChol', 'sysBP', 'diaBP', 'BMI', 'heartRate', 'heartRate', 'glucose']\n",
    "\n",
    "scaler = StandardScaler()\n",
    "\n",
    "scaled_data = scaler.fit_transform(data[columns_to_normalize])\n",
    "df_scaled = pd.DataFrame(scaled_data, columns=columns_to_normalize)\n",
    "data = pd.concat([data.drop(columns_to_normalize, axis=1), df_scaled], axis=1)\n",
    "\n",
    "data.head()\n"
   ]
  },
  {
   "attachments": {},
   "cell_type": "markdown",
   "metadata": {},
   "source": [
    "### PCA"
   ]
  },
  {
   "cell_type": "code",
   "execution_count": 37,
   "metadata": {},
   "outputs": [],
   "source": [
    "\n",
    "data = data.dropna()\n",
    "\n",
    "y = data['TenYearCHD']\n",
    "y = y.to_numpy()\n",
    "X = data.drop('TenYearCHD', axis=1)\n",
    "\n",
    "pca = PCA(n_components=7)\n",
    "X = pca.fit_transform(X)"
   ]
  },
  {
   "attachments": {},
   "cell_type": "markdown",
   "metadata": {},
   "source": [
    "## División de data de entrenamiento y prueba"
   ]
  },
  {
   "cell_type": "code",
   "execution_count": 38,
   "metadata": {},
   "outputs": [],
   "source": [
    "X_train, X_test, y_train, y_test = train_test_split(X, y, test_size=0.2,random_state=1234)"
   ]
  },
  {
   "attachments": {},
   "cell_type": "markdown",
   "metadata": {},
   "source": [
    "## Fit de la regresión logística polinomial"
   ]
  },
  {
   "cell_type": "code",
   "execution_count": 39,
   "metadata": {},
   "outputs": [
    {
     "data": {
      "text/plain": [
       "0.6879032258064516"
      ]
     },
     "execution_count": 39,
     "metadata": {},
     "output_type": "execute_result"
    }
   ],
   "source": [
    "\n",
    "imputer = SimpleImputer(strategy='mean')\n",
    "\n",
    "# Ajusta el imputer a los datos de entrenamiento y transforma los datos de entrenamiento\n",
    "X_train_imputed = imputer.fit_transform(X_train)\n",
    "\n",
    "# Usa el mismo imputer para transformar los datos de prueba\n",
    "X_test_imputed = imputer.transform(X_test)\n",
    "\n",
    "lr = LogisticRegression(solver='sag', max_iter=10000)\n",
    "lr.fit(X_train_imputed, y_train)\n",
    "y_pred = lr.predict(X_test_imputed)\n",
    "\n",
    "confusion_matrix(y_test, y_pred)\n",
    "accuracy_score(y_test, y_pred)\n",
    "\n"
   ]
  },
  {
   "cell_type": "code",
   "execution_count": 40,
   "metadata": {},
   "outputs": [
    {
     "name": "stdout",
     "output_type": "stream",
     "text": [
      "Grado del polinomio óptimo: 3\n"
     ]
    }
   ],
   "source": [
    "\n",
    "# Crear un pipeline con un transformador polinómico y un modelo de regresión lineal\n",
    "pipeline = Pipeline([('polynomial_features', PolynomialFeatures()),\n",
    "                     ('linear_regression', LinearRegression())])\n",
    "\n",
    "# Especificar los grados del polinomio que desea probar\n",
    "degrees = np.arange(1, 5)\n",
    "\n",
    "# Especificar los parámetros de la búsqueda de cuadrícula\n",
    "param_grid = {'polynomial_features__degree': degrees}\n",
    "\n",
    "# Realizar la búsqueda de cuadrícula con validación cruzada de 5 particiones\n",
    "grid_search = GridSearchCV(pipeline, param_grid, cv=5)\n",
    "grid_search.fit(X, y)\n",
    "\n",
    "# Obtener el grado del polinomio óptimo\n",
    "best_degree = grid_search.best_params_['polynomial_features__degree']\n",
    "\n",
    "# Imprimir el grado del polinomio óptimo\n",
    "print('Grado del polinomio óptimo:', best_degree)"
   ]
  },
  {
   "attachments": {},
   "cell_type": "markdown",
   "metadata": {},
   "source": [
    "## Discusión de resultados\n",
    "\n",
    "En primer lugar se pudo observar que el modelo sufre de overfiling cuando no se balancea porque casi llega a un acurracy de 0.9. Sin embargo, al balancear los datos, el modelo se vuelve más robusto y se puede observar que el acurracy mas o menos de 0.7. Esto se debe a que el modelo se vuelve más general y no se ajusta a los datos de entrenamiento.\n",
    "\n",
    "Luego de ello al utilizar cross validation se pudo determinar que el grado de polinimio que mejor se ajusta a la data es el grado 3. Esto se debe a que el acurracy es mayor que en los demás grados de polinomio. "
   ]
  }
 ],
 "metadata": {
  "kernelspec": {
   "display_name": "Python 3",
   "language": "python",
   "name": "python3"
  },
  "language_info": {
   "codemirror_mode": {
    "name": "ipython",
    "version": 3
   },
   "file_extension": ".py",
   "mimetype": "text/x-python",
   "name": "python",
   "nbconvert_exporter": "python",
   "pygments_lexer": "ipython3",
   "version": "3.11.1"
  },
  "orig_nbformat": 4,
  "vscode": {
   "interpreter": {
    "hash": "5dc8b4e25d3d97065a02c3338f3242e8235f54a2cf78964a2ea20743c210654d"
   }
  }
 },
 "nbformat": 4,
 "nbformat_minor": 2
}
